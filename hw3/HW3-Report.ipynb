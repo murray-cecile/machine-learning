{
 "cells": [
  {
   "cell_type": "markdown",
   "metadata": {},
   "source": [
    "## HW 3: Predicting whether a DonorsChoose.org project will be funded within 60 days\n",
    "\n",
    "#### Cecile Murray\n",
    "\n",
    "DonorsChoose.org is a website that helps connect teachers in need of financial support for educational projects with a network of donors willing to fund those projects. Donors give any amount they choose; once a project is fully funded, the requested materials are delivered. I analyzed past project funding data to build a model predicting whether or not a given project will be fully funded within 60 days of being posted on DonorsChoose. \n",
    "\n",
    "[DESCRIBE FINDINGS]\n",
    "\n",
    "### Data overview\n",
    "\n",
    "I built predictive models using data on the individual project listings between January 1, 2012 and December 31, 2013. Each listing includes some basic identifying information, geographic identifiers, and some fields describing the project's attributes. It also includes a field indicating when it was posted on DonorsChoose and, if it was fully funded, the date on which it received full funding. From these two dates, I computed the time between posting and funding; I assess whether that time is less than or equal to 60 days and use the result as my outcome variable. \n",
    "\n",
    "### Modeling approach\n",
    "\n",
    "In order to identify which model is likely to produce the best predictions, I built and tested a range of types of models. To evaluate the performance of the models, I split my data into different training and testing datasets. In each case, the training data contained all the projects posted on DonorsChoose up until a certain date, and the testing data contained all the projects posted after that date. I created three training and test sets: one that used July 1, 2012 as the split date, one that used December 31, 2012, and one that used July 1, 2013. Essentially, each training set contained increasing numbers of projects. By comparing model performance across multiple training and test sets, I can assess whether a particular model reliably outperforms the others.\n",
    "\n",
    "### Performance metrics\n",
    "\n",
    "I evaluated the performance of each model using a few standard metrics from machine learning:\n",
    "\n",
    "* **Baseline accuracy:** This metric represents the share of projects that the model classified correctly. That is, it takes the sum of projects predicted to be funded that were fully funded in 60 days and the projects predicted not to be funded that were not funded in that time frame, and divides by the total number of projects. If the model makes the correct prediction less often than would be predicted by random chance, then it is probably not a good model. \n",
    "\n",
    "* **Precision:** This metric is essentially a true positives rate. It describes what share of the projects that the model predicted would be funded within 60 days actually were funded in that time window.\n",
    "\n",
    "* **Recall:** This metric indicates the share of all the projects that actually were funded in time that the model picked up on. \n",
    "\n",
    "* **AUC-ROC:** This measure essentially compares the true-positive and false-positive rates. A random model would produce AUC-ROC scores of 0.5 because it would be no more likely to correctly identify projects that will be funded in the time window as to incorrectly identify them. A AUC-ROC value closer to 1 indicates that a model is better at correctly predicting projects that will be funded."
   ]
  },
  {
   "cell_type": "markdown",
   "metadata": {},
   "source": []
  },
  {
   "cell_type": "code",
   "execution_count": null,
   "metadata": {},
   "outputs": [],
   "source": []
  }
 ],
 "metadata": {
  "kernelspec": {
   "display_name": "Python 3",
   "language": "python",
   "name": "python3"
  },
  "language_info": {
   "codemirror_mode": {
    "name": "ipython",
    "version": 3
   },
   "file_extension": ".py",
   "mimetype": "text/x-python",
   "name": "python",
   "nbconvert_exporter": "python",
   "pygments_lexer": "ipython3",
   "version": "3.7.1"
  }
 },
 "nbformat": 4,
 "nbformat_minor": 2
}
