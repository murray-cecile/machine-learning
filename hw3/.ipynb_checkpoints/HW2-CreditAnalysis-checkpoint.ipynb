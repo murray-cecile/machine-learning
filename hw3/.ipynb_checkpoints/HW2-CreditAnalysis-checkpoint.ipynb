{
 "cells": [
  {
   "cell_type": "markdown",
   "metadata": {},
   "source": [
    "# Using a decision tree to predict financial distress\n",
    "### Machine Learning for Public Policy - HW #2\n",
    "### Cecile Murray\n"
   ]
  },
  {
   "cell_type": "markdown",
   "metadata": {},
   "source": [
    "Many people rely on their ability to borrow money to help cushion the impact of financial shocks such as a medical emergency or a job loss. Sometimes, however, borrowers cannot pay back what they owe, and can be sucked into a downward spiral of greater debt and declining credit-worthiness. In a policy context, the ability to identify individuals at high risk of serious delinquency could allow for interventions that would help individuals get back on a firm financial footing before their credit suffers serious damage. \n",
    "\n",
    "In this assignment, I explore a Kaggle dataset and use to predict who will experience a serious delinquency.\n",
    "\n",
    "### Load  data"
   ]
  },
  {
   "cell_type": "code",
   "execution_count": 1,
   "metadata": {},
   "outputs": [],
   "source": [
    "# import modules\n",
    "import numpy as np\n",
    "import pandas as pd \n",
    "import seaborn as sns\n",
    "import plotnine as p9\n",
    "import matplotlib.pyplot as plt\n",
    "import sklearn.tree as tree\n",
    "from sklearn.tree import DecisionTreeClassifier\n",
    "from sklearn.neighbors import KNeighborsClassifier\n",
    "from sklearn.model_selection import train_test_split\n",
    "from sklearn.metrics import accuracy_score as accuracy\n",
    "import graphviz \n",
    "\n",
    "# bring in pipeline library\n",
    "import pipeline as pipe\n",
    "import utils\n",
    "import exploration as exp"
   ]
  },
  {
   "cell_type": "code",
   "execution_count": 2,
   "metadata": {},
   "outputs": [],
   "source": [
    "# read in data and look at first few rows\n",
    "credit_raw = utils.read_data(\"credit-data\", file_type = 'csv')\n",
    "\n",
    "# get count of null values for all columns\n",
    "credit_raw.isnull().sum()\n",
    "\n",
    "# replace missing values with the median\n",
    "credit = utils.replace_missing(credit_raw, 'MonthlyIncome', 'NumberOfDependents', method = 'median')"
   ]
  },
  {
   "cell_type": "code",
   "execution_count": 3,
   "metadata": {},
   "outputs": [],
   "source": [
    "# create discrete buckets for variables\n",
    "credit = utils.bin_continuous(credit, 'age', 'age_bracket',\n",
    "                         breaks = list(range(0, 100, 20)),\n",
    "                         labels = ['under20', '20-40', '40-60', '60-80', '80+'])\n",
    "credit = utils.bin_continuous(credit, 'MonthlyIncome', 'income_cat',\n",
    "                             breaks = [-1, 1000, 2500, 5000, 10000],\n",
    "                             labels = ['low', 'modest', 'medium', 'high', 'highest'])\n",
    "credit = utils.bin_continuous(credit, 'RevolvingUtilizationOfUnsecuredLines', 'utilization',\n",
    "                             breaks = [0, 0.5, 1, 2], \n",
    "                             labels = ['under_half', 'over_half', 'over_one', 'extreme'])"
   ]
  },
  {
   "cell_type": "code",
   "execution_count": 4,
   "metadata": {},
   "outputs": [],
   "source": [
    "# make categorical variables into binaries\n",
    "credit = utils.make_cat_dummy(credit, ['age_bracket', 'income_cat', 'utilization'])"
   ]
  },
  {
   "cell_type": "code",
   "execution_count": 5,
   "metadata": {},
   "outputs": [],
   "source": [
    "# create training and testing sets\n",
    "feature_list = ['NumberOfTime30-59DaysPastDueNotWorse',\n",
    "                'DebtRatio',\n",
    "                'age_bracket_under20',\n",
    "                'age_bracket_20-40',\n",
    "                'age_bracket_40-60',\n",
    "                'age_bracket_60-80',\n",
    "                'age_bracket_80+',\n",
    "                'age_bracket_nan',\n",
    "                'income_cat_low',\n",
    "                'income_cat_modest',\n",
    "                'income_cat_medium',\n",
    "                'income_cat_high',\n",
    "                'income_cat_highest',\n",
    "                'utilization_under_half',\n",
    "                'utilization_over_half',\n",
    "                'utilization_over_one',\n",
    "                'utilization_extreme',\n",
    "                'NumberOfOpenCreditLinesAndLoans',\n",
    "                'NumberRealEstateLoansOrLines',\n",
    "                'NumberOfDependents']\n",
    "\n",
    "x_train, x_test, y_train, y_test = pipe.create_train_test_sets(credit,\n",
    "                                                               'SeriousDlqin2yrs',\n",
    "                                                               feature_list,\n",
    "                                                               size = 0.25)"
   ]
  },
  {
   "cell_type": "code",
   "execution_count": 8,
   "metadata": {},
   "outputs": [],
   "source": [
    "def build_classifier(classifier_type, x_train, y_train, **params):\n",
    "    ''' Takes specified type of classifier using training set and optional keyword arguments\n",
    "        Returns the trained classifier object\n",
    "    '''\n",
    "\n",
    "    if classifier_type == 'DecisionTree':\n",
    "        return DecisionTreeClassifier(params).fit(x_train, y_train)\n",
    "\n",
    "    elif classifier_type == \"LogisticRegression\":\n",
    "        return LogisticRegression(params).fit(x_train, y_train)\n",
    "    \n",
    "    elif classifier_type == \"KNN\":\n",
    "        return KNeighborsClassifier(params).fit(x_train, y_train)\n",
    "    \n",
    "    elif classifier_type == \"SVM\":\n",
    "        return LinearSVC(params).fit(x_train, y_train)\n",
    "\n",
    "    else:\n",
    "        print(\"Classifier not supported.\")\n",
    "        return \n"
   ]
  },
  {
   "cell_type": "code",
   "execution_count": 12,
   "metadata": {
    "scrolled": true
   },
   "outputs": [
    {
     "data": {
      "text/plain": [
       "[0.8326506729081334,\n",
       " 0.4740947075208914,\n",
       " 0.5243376463339495,\n",
       " 0.49795201872440026,\n",
       " 0.7074822283343946]"
      ]
     },
     "execution_count": 12,
     "metadata": {},
     "output_type": "execute_result"
    }
   ],
   "source": [
    "tree = pipe.build_classifier(\"DecisionTree\", x_train, y_train)\n",
    "pipe.compute_eval_stats(tree, x_test, y_test, 0.3)"
   ]
  },
  {
   "cell_type": "code",
   "execution_count": null,
   "metadata": {},
   "outputs": [],
   "source": [
    "# test different tree depths\n",
    "depths = [1, 3, 5, 6, 7, 10, 15, 25]\n",
    "criteria = ['gini', 'entropy']\n",
    "params = [(c, d) for c in criteria for d in depths]\n",
    "# params\n",
    "pipe.build_classifier('LogisticRegression', x_train, y_train, {})"
   ]
  },
  {
   "cell_type": "markdown",
   "metadata": {},
   "source": [
    "Of these trees, the one with the greatest accuracy on the test dataset is the entropy tree with a maxmimum depth of three. I plot the predicted probabilities from this tree below."
   ]
  },
  {
   "cell_type": "code",
   "execution_count": null,
   "metadata": {
    "scrolled": true
   },
   "outputs": [],
   "source": [
    "dec_tree = DecisionTreeClassifier(max_depth=3, criterion='entropy').fit(x_train, y_train)\n",
    "pipe.plot_prediction_distribution(dec_tree, x_test)"
   ]
  },
  {
   "cell_type": "markdown",
   "metadata": {},
   "source": [
    "### Plot the decision tree\n",
    "\n",
    "By plotting the decision tree, we can understand how it classifies observations. Looking at the plot below, existing measures of credit health - namely utilization of existing revolving credit lines and the number of times an individual had a short-term delinquency - largely drive the classification. This result is not surprising, but it also may not add much knowledge from the perspective of someone who wishes to more carefully target individuals at risk of serious delinquency. "
   ]
  },
  {
   "cell_type": "code",
   "execution_count": null,
   "metadata": {},
   "outputs": [],
   "source": [
    "pipe.make_tree_chart(dec_tree, x_train.columns, ['NoDelinquency', 'Delinquency'], out_file = 'tree_entropy_d3.dot')"
   ]
  }
 ],
 "metadata": {
  "kernelspec": {
   "display_name": "Python 3",
   "language": "python",
   "name": "python3"
  },
  "language_info": {
   "codemirror_mode": {
    "name": "ipython",
    "version": 3
   },
   "file_extension": ".py",
   "mimetype": "text/x-python",
   "name": "python",
   "nbconvert_exporter": "python",
   "pygments_lexer": "ipython3",
   "version": "3.7.1"
  }
 },
 "nbformat": 4,
 "nbformat_minor": 2
}
